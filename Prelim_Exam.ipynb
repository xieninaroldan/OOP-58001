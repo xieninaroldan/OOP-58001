{
  "nbformat": 4,
  "nbformat_minor": 0,
  "metadata": {
    "colab": {
      "name": "Prelim Exam.ipynb",
      "provenance": [],
      "authorship_tag": "ABX9TyMzi7DvA5ItzAb5wwWbcqx6",
      "include_colab_link": true
    },
    "kernelspec": {
      "name": "python3",
      "display_name": "Python 3"
    },
    "language_info": {
      "name": "python"
    }
  },
  "cells": [
    {
      "cell_type": "markdown",
      "metadata": {
        "id": "view-in-github",
        "colab_type": "text"
      },
      "source": [
        "<a href=\"https://colab.research.google.com/github/xieninaroldan/OOP-58001/blob/main/Prelim_Exam.ipynb\" target=\"_parent\"><img src=\"https://colab.research.google.com/assets/colab-badge.svg\" alt=\"Open In Colab\"/></a>"
      ]
    },
    {
      "cell_type": "markdown",
      "source": [
        "-Write a Python to display your full name, \n",
        "student number, age, and course\n",
        "\n",
        "-Create a class named Student with attributes: Name, Student_No, Age, School, and Course\n",
        "\n",
        "-Create an object name Myself and assign an instance for each attribute.\n",
        "\n",
        "-Create a method Self () using an instantiation of a class.\n",
        "\n",
        "-Insert your GitHub link \"Prelim Exam\" from your repository named \"OOP 58001\" "
      ],
      "metadata": {
        "id": "SkFMwjOSHOQj"
      }
    },
    {
      "cell_type": "code",
      "source": [
        "class Student:\n",
        "\n",
        "  def __init__(self,Name,Student_No,Age,School,Course):\n",
        "    self.Name = Name\n",
        "    self.Student_No = Student_No\n",
        "    self.Age = Age \n",
        "    self.School = School\n",
        "    self.Course = Course\n",
        "\n",
        "  def self(self):\n",
        "    return f'Name: {self.Name} \\nStudent Number: {self.Student_No} \\nAge: {self.Age} \\nSchool: {self.School} \\nCourse: {self.Course}'\n",
        "\n",
        "Myself = Student (\"Xienina F. Roldan\", 202119564, 19, \"Adamson University\", \"Bachelor of Science in Computer Engineering\")\n",
        "print (Myself.self())\n"
      ],
      "metadata": {
        "colab": {
          "base_uri": "https://localhost:8080/"
        },
        "id": "YuRRqTTFHdRE",
        "outputId": "1de37c7a-6d29-4c9c-ac34-fc112f65e9b0"
      },
      "execution_count": 4,
      "outputs": [
        {
          "output_type": "stream",
          "name": "stdout",
          "text": [
            "Name: Xienina F. Roldan \n",
            "Student Number: 202119564 \n",
            "Age: 19 \n",
            "School: Adamson University \n",
            "Course: Bachelor of Science in Computer Engineering\n"
          ]
        }
      ]
    }
  ]
}