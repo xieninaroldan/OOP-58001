{
  "nbformat": 4,
  "nbformat_minor": 0,
  "metadata": {
    "colab": {
      "name": "Long Quiz.ipynb",
      "provenance": [],
      "authorship_tag": "ABX9TyNuaRYms4cdG3T3aqOlORPa",
      "include_colab_link": true
    },
    "kernelspec": {
      "name": "python3",
      "display_name": "Python 3"
    },
    "language_info": {
      "name": "python"
    }
  },
  "cells": [
    {
      "cell_type": "markdown",
      "metadata": {
        "id": "view-in-github",
        "colab_type": "text"
      },
      "source": [
        "<a href=\"https://colab.research.google.com/github/xieninaroldan/OOP-58001/blob/main/Long_Quiz.ipynb\" target=\"_parent\"><img src=\"https://colab.research.google.com/assets/colab-badge.svg\" alt=\"Open In Colab\"/></a>"
      ]
    },
    {
      "cell_type": "code",
      "source": [
        "class Circle():\n",
        "  def __init__ (self, radius):\n",
        "    self.radius = int (radius)\n",
        "\n",
        "  def Perimeter (self):\n",
        "    return 2 * pi * self.radius\n",
        "  \n",
        "  def Area (self):\n",
        "    return pi * (self.radius ** 2)\n",
        "\n",
        "  def display (self):\n",
        "    print (\"The perimeter of the circle is\", self.Perimeter())\n",
        "    print (\"The area of the circle is\", self.Area())\n",
        "\n",
        "pi = 3.14\n",
        "pine = Circle (input())\n",
        "pine.display()"
      ],
      "metadata": {
        "colab": {
          "base_uri": "https://localhost:8080/"
        },
        "id": "KJgvxsIl6WiW",
        "outputId": "33b6fae5-d451-4690-9a24-e32c6a476004"
      },
      "execution_count": 10,
      "outputs": [
        {
          "output_type": "stream",
          "name": "stdout",
          "text": [
            "9\n",
            "The perimeter of the circle is 56.52\n",
            "The area of the circle is 254.34\n"
          ]
        }
      ]
    }
  ]
}