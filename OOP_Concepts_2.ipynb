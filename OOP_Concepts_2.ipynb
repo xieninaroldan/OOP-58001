{
  "nbformat": 4,
  "nbformat_minor": 0,
  "metadata": {
    "colab": {
      "name": "OOP Concepts_2.ipynb",
      "provenance": [],
      "authorship_tag": "ABX9TyOLBr8X5uTD9k0ZW5uluudg",
      "include_colab_link": true
    },
    "kernelspec": {
      "name": "python3",
      "display_name": "Python 3"
    },
    "language_info": {
      "name": "python"
    }
  },
  "cells": [
    {
      "cell_type": "markdown",
      "metadata": {
        "id": "view-in-github",
        "colab_type": "text"
      },
      "source": [
        "<a href=\"https://colab.research.google.com/github/xieninaroldan/OOP-58001/blob/main/OOP_Concepts_2.ipynb\" target=\"_parent\"><img src=\"https://colab.research.google.com/assets/colab-badge.svg\" alt=\"Open In Colab\"/></a>"
      ]
    },
    {
      "cell_type": "markdown",
      "source": [
        "Classes with Multiple Objects"
      ],
      "metadata": {
        "id": "Hp-pauJrxzWQ"
      }
    },
    {
      "cell_type": "code",
      "source": [
        "class Birds:\n",
        "  def __init__(self,bird_name):\n",
        "    self.bird_name = bird_name\n",
        "  def flying_birds(self):\n",
        "    print(f\"{self.bird_name} flies above clouds\")\n",
        "  def non_flying_birds(self):\n",
        "    print(f\"{self.bird_name} is the national bird of the Philippines\")\n",
        "\n",
        "vulture = Birds(\"Griffon Vulture\")\n",
        "crane = Birds(\"Common Crane\")\n",
        "emu = Birds(\"Emu\")\n",
        "\n",
        "vulture.flying_birds()\n",
        "crane.flying_birds()\n",
        "emu.non_flying_birds()"
      ],
      "metadata": {
        "colab": {
          "base_uri": "https://localhost:8080/"
        },
        "id": "_7dxIGzxx4pK",
        "outputId": "10ed5928-ea64-4972-f410-bc22c78ddcf0"
      },
      "execution_count": 1,
      "outputs": [
        {
          "output_type": "stream",
          "name": "stdout",
          "text": [
            "Griffon Vulture flies above clouds\n",
            "Common Crane flies above clouds\n",
            "Emu is the national bird of the Philippines\n"
          ]
        }
      ]
    },
    {
      "cell_type": "markdown",
      "source": [
        "Encapsulation with Private Attributes"
      ],
      "metadata": {
        "id": "TX5CCtDXzpwY"
      }
    },
    {
      "cell_type": "code",
      "execution_count": 3,
      "metadata": {
        "colab": {
          "base_uri": "https://localhost:8080/"
        },
        "id": "iweusoXzuICf",
        "outputId": "d7328885-9de6-46e7-ec19-c63ad65082c4"
      },
      "outputs": [
        {
          "output_type": "execute_result",
          "data": {
            "text/plain": [
              "10"
            ]
          },
          "metadata": {},
          "execution_count": 3
        }
      ],
      "source": [
        "class foo:\n",
        "  def __init__(self,a,b):\n",
        "    self.a = a\n",
        "    self.b = b\n",
        "  def add(self):\n",
        "    return self.a + self.b\n",
        "foo_object = foo(3,4)\n",
        "foo_object.add()\n",
        "\n",
        "foo_object.a = 6\n",
        "foo_object.add()"
      ]
    },
    {
      "cell_type": "code",
      "source": [
        "class foo:\n",
        "  def __init__(self,a,b):\n",
        "    self._a = a\n",
        "    self._b = b\n",
        "  def add(self):\n",
        "    return self._a + self._b\n",
        "foo_object = foo(3,4)\n",
        "foo_object.add()\n",
        "\n",
        "foo_object.a = 6\n",
        "foo_object.add()"
      ],
      "metadata": {
        "colab": {
          "base_uri": "https://localhost:8080/"
        },
        "id": "vIE3iW2C1J0K",
        "outputId": "85e6724f-f2cb-4260-d614-991de691de00"
      },
      "execution_count": 5,
      "outputs": [
        {
          "output_type": "execute_result",
          "data": {
            "text/plain": [
              "7"
            ]
          },
          "metadata": {},
          "execution_count": 5
        }
      ]
    },
    {
      "cell_type": "markdown",
      "source": [
        "Encapsulation by mangling with double underscores"
      ],
      "metadata": {
        "id": "-1XGC8Bg24XK"
      }
    },
    {
      "cell_type": "code",
      "source": [
        "class Counter:\n",
        "  def __init__(self):\n",
        "    self.current = 0\n",
        "  \n",
        "  def increment(self):\n",
        "    self.current += 1 #current = current+1\n",
        "\n",
        "  def value(self):\n",
        "    return self.current\n",
        "\n",
        "  def reset(self):\n",
        "    self.current = 0\n",
        "\n",
        "counter = Counter()\n",
        "\n",
        "counter.increment()\n",
        "counter.increment()\n",
        "counter.increment()\n",
        "\n",
        "print(counter.value())"
      ],
      "metadata": {
        "colab": {
          "base_uri": "https://localhost:8080/"
        },
        "id": "eC8n96ac26l3",
        "outputId": "acad33ff-a761-4c96-ee4f-b624896622e2"
      },
      "execution_count": 6,
      "outputs": [
        {
          "output_type": "stream",
          "name": "stdout",
          "text": [
            "3\n"
          ]
        }
      ]
    },
    {
      "cell_type": "code",
      "source": [
        "class Counter:\n",
        "  def __init__(self):\n",
        "    self.__current = 0\n",
        "  \n",
        "  def increment(self):\n",
        "    self.__current += 1 #current = current+1\n",
        "\n",
        "  def value(self):\n",
        "    return self.__current\n",
        "\n",
        "  def reset(self):\n",
        "    self.current = 0\n",
        "\n",
        "counter = Counter()\n",
        "\n",
        "counter.increment()\n",
        "counter.increment()\n",
        "counter.increment()\n",
        "\n",
        "print(counter.reset())"
      ],
      "metadata": {
        "colab": {
          "base_uri": "https://localhost:8080/"
        },
        "id": "PQFDakRt5VlW",
        "outputId": "884b6c5e-e2f9-4ce8-b804-94f34c8b8fb0"
      },
      "execution_count": 8,
      "outputs": [
        {
          "output_type": "stream",
          "name": "stdout",
          "text": [
            "None\n"
          ]
        }
      ]
    },
    {
      "cell_type": "markdown",
      "source": [
        "Inheritance"
      ],
      "metadata": {
        "id": "atq0TNLM7ZNx"
      }
    },
    {
      "cell_type": "code",
      "source": [
        "class Person:\n",
        "  def __init__(self,fname,sname):\n",
        "    self.fname = fname\n",
        "    self.sname = sname\n",
        "  def printname(self):\n",
        "    print(self.fname,self.sname)\n",
        "\n",
        "x = Person(\"Maria\",\"Sayo\")\n",
        "x.printname()\n",
        "\n",
        "class Teacher(Person):\n",
        " pass\n",
        "\n",
        "x = Teacher(\"Rizette\",\"Sayo\")\n",
        "x.printname()"
      ],
      "metadata": {
        "colab": {
          "base_uri": "https://localhost:8080/"
        },
        "id": "qc3Nwilq7bSm",
        "outputId": "9bd7b44b-4a10-4f74-bf0d-c5d312c71a22"
      },
      "execution_count": 11,
      "outputs": [
        {
          "output_type": "stream",
          "name": "stdout",
          "text": [
            "Maria Sayo\n",
            "Rizette Sayo\n"
          ]
        }
      ]
    },
    {
      "cell_type": "markdown",
      "source": [
        "Polymorphism"
      ],
      "metadata": {
        "id": "DoE_EkJG-nUy"
      }
    },
    {
      "cell_type": "code",
      "source": [
        "class RegularPolygon:\n",
        "  def __init__(self, side=1):\n",
        "    self._side = side\n",
        "class Square(RegularPolygon):\n",
        "  def area(self):\n",
        "    return self._side * self._side\n",
        "class EquilateralTriangle(RegularPolygon):\n",
        "  def area(self):\n",
        "    return self._side * self._side * 0.433\n",
        "\n",
        "obj1 = Square(4)\n",
        "obj2 = EquilateralTriangle(3)\n",
        "\n",
        "print(obj1.area())\n",
        "print(obj2.area())"
      ],
      "metadata": {
        "colab": {
          "base_uri": "https://localhost:8080/"
        },
        "id": "8LvBHwUJ_wfI",
        "outputId": "91e60ea6-8662-45c0-9cca-3d9a70a91776"
      },
      "execution_count": 16,
      "outputs": [
        {
          "output_type": "stream",
          "name": "stdout",
          "text": [
            "16\n",
            "3.897\n"
          ]
        }
      ]
    }
  ]
}