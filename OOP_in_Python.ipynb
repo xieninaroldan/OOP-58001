{
  "nbformat": 4,
  "nbformat_minor": 0,
  "metadata": {
    "colab": {
      "name": "OOP in Python.ipynb",
      "provenance": [],
      "authorship_tag": "ABX9TyOS7QfaY3lCuLajhG3ccYLh",
      "include_colab_link": true
    },
    "kernelspec": {
      "name": "python3",
      "display_name": "Python 3"
    },
    "language_info": {
      "name": "python"
    }
  },
  "cells": [
    {
      "cell_type": "markdown",
      "metadata": {
        "id": "view-in-github",
        "colab_type": "text"
      },
      "source": [
        "<a href=\"https://colab.research.google.com/github/xieninaroldan/OOP-58001/blob/main/OOP_in_Python.ipynb\" target=\"_parent\"><img src=\"https://colab.research.google.com/assets/colab-badge.svg\" alt=\"Open In Colab\"/></a>"
      ]
    },
    {
      "cell_type": "markdown",
      "source": [
        "Create a Class"
      ],
      "metadata": {
        "id": "uT4IJlsvqqLp"
      }
    },
    {
      "cell_type": "code",
      "source": [
        "class TheClass:\n",
        "  pass                  #to create a class without method"
      ],
      "metadata": {
        "id": "2lxLkwvqqxO_"
      },
      "execution_count": 21,
      "outputs": []
    },
    {
      "cell_type": "code",
      "source": [
        "class TheClass:         #the name of the class\n",
        " x = 40                 #property of the class named MyClass"
      ],
      "metadata": {
        "id": "CVS43crgrZfn"
      },
      "execution_count": 22,
      "outputs": []
    },
    {
      "cell_type": "code",
      "source": [
        "class Car():                       #create a class name Car\n",
        "  def __init__(self,name,color):          \n",
        "    self.name = name               #represent the instance of class name Car\n",
        "    self.color = color \n",
        "\n",
        "  def description(self):\n",
        "    return self.name, self.color \n",
        "\n",
        "  def display (self):\n",
        "    print(\"The name and color of the car\",self.description())\n",
        "\n",
        "obj1 = Car(\"Toyota\",\"black\")      #to create an object with its attribute values \n",
        "obj1.display()"
      ],
      "metadata": {
        "colab": {
          "base_uri": "https://localhost:8080/"
        },
        "id": "2Y4QAqK3p8Zv",
        "outputId": "28dbd6ef-d4b5-4191-ca58-a7131f9aaf63"
      },
      "execution_count": 1,
      "outputs": [
        {
          "output_type": "stream",
          "name": "stdout",
          "text": [
            "The name and color of the car ('Toyota', 'black')\n"
          ]
        }
      ]
    },
    {
      "cell_type": "markdown",
      "source": [
        "Modify an Object Property"
      ],
      "metadata": {
        "id": "6sT9FKcTxCWC"
      }
    },
    {
      "cell_type": "code",
      "source": [
        "obj1.name=\"Maserati\"\n",
        "print(obj1.name)"
      ],
      "metadata": {
        "id": "orIdDqo0xG9y",
        "colab": {
          "base_uri": "https://localhost:8080/"
        },
        "outputId": "dbf5697f-437e-4b00-9544-a0fadb32aaec"
      },
      "execution_count": 7,
      "outputs": [
        {
          "output_type": "stream",
          "name": "stdout",
          "text": [
            "Maserati\n"
          ]
        }
      ]
    },
    {
      "cell_type": "code",
      "source": [
        "obj1.display()"
      ],
      "metadata": {
        "id": "r7CF9QuExqwP",
        "colab": {
          "base_uri": "https://localhost:8080/"
        },
        "outputId": "7a028f64-a7be-413e-ae5b-d85b6b233358"
      },
      "execution_count": 8,
      "outputs": [
        {
          "output_type": "stream",
          "name": "stdout",
          "text": [
            "The name and color of the car ('Maserati', 'black')\n"
          ]
        }
      ]
    },
    {
      "cell_type": "markdown",
      "source": [
        "Delete Object Property"
      ],
      "metadata": {
        "id": "7TLrR3pIsNPf"
      }
    },
    {
      "cell_type": "code",
      "source": [
        "del obj1.color \n",
        "obj1.display()"
      ],
      "metadata": {
        "id": "HrZBss25sQF6"
      },
      "execution_count": null,
      "outputs": []
    },
    {
      "cell_type": "code",
      "source": [
        "class Car():                       #create a class name Car\n",
        "  def __init__(self,name,color):          \n",
        "    self.name = name               #represent the instance of class name Car\n",
        "    self.color = color \n",
        "\n",
        "  def description(self):\n",
        "    return self.name, self.color \n",
        "\n",
        "  def display (self):\n",
        "    print(\"The name and color of the car\",self.description())\n",
        "\n",
        "\n",
        "obj2 = Car(\"BMW\",\"red\") #to create an object with its attribute values\n",
        "obj2.display()"
      ],
      "metadata": {
        "colab": {
          "base_uri": "https://localhost:8080/"
        },
        "id": "qg1w2aVase_Y",
        "outputId": "e4a6257f-7a9d-42d4-a3e9-8de3aacd1105"
      },
      "execution_count": 14,
      "outputs": [
        {
          "output_type": "stream",
          "name": "stdout",
          "text": [
            "The name and color of the car ('BMW', 'red')\n"
          ]
        }
      ]
    },
    {
      "cell_type": "markdown",
      "source": [
        "Application 1 - Write a python program to compute the area and perimeter of a rectangle. Use Rectangle as class name, and length and width as attributes"
      ],
      "metadata": {
        "id": "YuTecMRvuhC9"
      }
    },
    {
      "cell_type": "code",
      "source": [
        "class Rectangle():\n",
        "  def __init__(self, length, width):\n",
        "    self.length = length\n",
        "    self.width = width\n",
        "\n",
        "  def Area(self):\n",
        "    return self.length*self.width\n",
        "\n",
        "  def Perimeter(self):\n",
        "    return 2*(self.length+self.width)\n",
        "\n",
        "  def display(self):\n",
        "    print(\"The area of rectangle is \", self.Area())\n",
        "    print(\"The perimeter of rectangle is \", self.Perimeter())\n",
        "\n",
        "pol = Rectangle(7,4.5)\n",
        "pol.display()"
      ],
      "metadata": {
        "colab": {
          "base_uri": "https://localhost:8080/"
        },
        "id": "1RYVZ9CruiSq",
        "outputId": "a6abdf60-954d-472f-af0a-f808c54860f2"
      },
      "execution_count": 20,
      "outputs": [
        {
          "output_type": "stream",
          "name": "stdout",
          "text": [
            "The area of rectangle is  31.5\n",
            "The perimeter of rectangle is  23.0\n"
          ]
        }
      ]
    },
    {
      "cell_type": "markdown",
      "source": [
        "Application 2 - Write a python program to display a class name OOP_58001 with your student no. and fullname (Surname, First Name) as attributes"
      ],
      "metadata": {
        "id": "zC-oX0s_uoLy"
      }
    },
    {
      "cell_type": "code",
      "source": [
        "class OOP_58001:\n",
        "  pass"
      ],
      "metadata": {
        "id": "IGdwRM8MxEq0"
      },
      "execution_count": 17,
      "outputs": []
    },
    {
      "cell_type": "code",
      "source": [
        "class OOP_58001():                    #create a class named OOP_58001\n",
        "  def __init__(self,number,name):\n",
        "    self.number = number              #represents the student number\n",
        "    self.name = name                  #represents the student's full name\n",
        "\n",
        "  def StudentNumber(self):\n",
        "    return self.number\n",
        "\n",
        "  def FullName(self):\n",
        "    return self.name\n",
        "  \n",
        "  def display(self):\n",
        "    print(\"I am from class OOP_58001\")\n",
        "    print(\"My Student Number is\", self.StudentNumber())\n",
        "    print(\"My Full Name is\", self.FullName())\n",
        "\n",
        "#to display an info with its attributes\n",
        "info = OOP_58001(\"202119564\", \"Xienina F. Roldan\")     \n",
        "info.display()"
      ],
      "metadata": {
        "colab": {
          "base_uri": "https://localhost:8080/"
        },
        "id": "QkO0tQyexMiL",
        "outputId": "6cc0a19c-dd53-4fd4-9f66-43df9cadcf2d"
      },
      "execution_count": 23,
      "outputs": [
        {
          "output_type": "stream",
          "name": "stdout",
          "text": [
            "I am from class OOP_58001\n",
            "My Student Number is 202119564\n",
            "My Full Name is Xienina F. Roldan\n"
          ]
        }
      ]
    }
  ]
}